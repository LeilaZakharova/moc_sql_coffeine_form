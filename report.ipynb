{
 "cells": [
  {
   "cell_type": "code",
   "execution_count": 15,
   "id": "initial_id",
   "metadata": {
    "collapsed": true,
    "ExecuteTime": {
     "end_time": "2024-01-31T04:20:23.718360Z",
     "start_time": "2024-01-31T04:20:22.577945300Z"
    }
   },
   "outputs": [],
   "source": [
    "import pandas as pd\n",
    "import numpy as np"
   ]
  },
  {
   "cell_type": "code",
   "execution_count": 4,
   "outputs": [],
   "source": [
    "coffee_shops = pd.read_csv('coffee.csv')"
   ],
   "metadata": {
    "collapsed": false,
    "ExecuteTime": {
     "end_time": "2024-01-31T03:43:01.495863300Z",
     "start_time": "2024-01-31T03:43:01.482368800Z"
    }
   },
   "id": "aed95fac84d00180"
  },
  {
   "cell_type": "code",
   "execution_count": 6,
   "outputs": [
    {
     "data": {
      "text/plain": "    Region                   Place name   Place type  Rating  Reviews Price  \\\n0        C                     Dim Kavu       Others     4.6    206.0    $$   \n1        C                      Коферум         Cafe     5.0     24.0    $$   \n2        C             Кофейня Світ Чаю  Coffee shop     5.0     11.0    $$   \n3        C             Кофейня Starcoff  Coffee shop     4.4    331.0    $$   \n4        C        Кофейня \"Friend Zone\"  Coffee shop     5.0     12.0    $$   \n..     ...                          ...          ...     ...      ...   ...   \n195      H                       Artist       Others     4.6    963.0   $$$   \n196      H                   Dream Cafe         Cafe     4.3    646.0    $$   \n197      H  РУТА КАФЕ ПП КУЛІЧЕНКО К.І.         Cafe     4.6     16.0    $$   \n198      H               Ob'yektna Kava  Coffee shop     4.7    599.0    $$   \n199      H   О...МАРАТ КАФЕ ПП ПОЛІСТЕП         Cafe     4.3    341.0    $$   \n\n     Delivery option Dine in option Takeout option  \n0              False            NaN            NaN  \n1              False            NaN           True  \n2              False            NaN           True  \n3              False           True           True  \n4              False           True           True  \n..               ...            ...            ...  \n195            False           True           True  \n196            False           True           True  \n197            False           True           True  \n198            False           True           True  \n199            False           True            NaN  \n\n[200 rows x 9 columns]",
      "text/html": "<div>\n<style scoped>\n    .dataframe tbody tr th:only-of-type {\n        vertical-align: middle;\n    }\n\n    .dataframe tbody tr th {\n        vertical-align: top;\n    }\n\n    .dataframe thead th {\n        text-align: right;\n    }\n</style>\n<table border=\"1\" class=\"dataframe\">\n  <thead>\n    <tr style=\"text-align: right;\">\n      <th></th>\n      <th>Region</th>\n      <th>Place name</th>\n      <th>Place type</th>\n      <th>Rating</th>\n      <th>Reviews</th>\n      <th>Price</th>\n      <th>Delivery option</th>\n      <th>Dine in option</th>\n      <th>Takeout option</th>\n    </tr>\n  </thead>\n  <tbody>\n    <tr>\n      <th>0</th>\n      <td>C</td>\n      <td>Dim Kavu</td>\n      <td>Others</td>\n      <td>4.6</td>\n      <td>206.0</td>\n      <td>$$</td>\n      <td>False</td>\n      <td>NaN</td>\n      <td>NaN</td>\n    </tr>\n    <tr>\n      <th>1</th>\n      <td>C</td>\n      <td>Коферум</td>\n      <td>Cafe</td>\n      <td>5.0</td>\n      <td>24.0</td>\n      <td>$$</td>\n      <td>False</td>\n      <td>NaN</td>\n      <td>True</td>\n    </tr>\n    <tr>\n      <th>2</th>\n      <td>C</td>\n      <td>Кофейня Світ Чаю</td>\n      <td>Coffee shop</td>\n      <td>5.0</td>\n      <td>11.0</td>\n      <td>$$</td>\n      <td>False</td>\n      <td>NaN</td>\n      <td>True</td>\n    </tr>\n    <tr>\n      <th>3</th>\n      <td>C</td>\n      <td>Кофейня Starcoff</td>\n      <td>Coffee shop</td>\n      <td>4.4</td>\n      <td>331.0</td>\n      <td>$$</td>\n      <td>False</td>\n      <td>True</td>\n      <td>True</td>\n    </tr>\n    <tr>\n      <th>4</th>\n      <td>C</td>\n      <td>Кофейня \"Friend Zone\"</td>\n      <td>Coffee shop</td>\n      <td>5.0</td>\n      <td>12.0</td>\n      <td>$$</td>\n      <td>False</td>\n      <td>True</td>\n      <td>True</td>\n    </tr>\n    <tr>\n      <th>...</th>\n      <td>...</td>\n      <td>...</td>\n      <td>...</td>\n      <td>...</td>\n      <td>...</td>\n      <td>...</td>\n      <td>...</td>\n      <td>...</td>\n      <td>...</td>\n    </tr>\n    <tr>\n      <th>195</th>\n      <td>H</td>\n      <td>Artist</td>\n      <td>Others</td>\n      <td>4.6</td>\n      <td>963.0</td>\n      <td>$$$</td>\n      <td>False</td>\n      <td>True</td>\n      <td>True</td>\n    </tr>\n    <tr>\n      <th>196</th>\n      <td>H</td>\n      <td>Dream Cafe</td>\n      <td>Cafe</td>\n      <td>4.3</td>\n      <td>646.0</td>\n      <td>$$</td>\n      <td>False</td>\n      <td>True</td>\n      <td>True</td>\n    </tr>\n    <tr>\n      <th>197</th>\n      <td>H</td>\n      <td>РУТА КАФЕ ПП КУЛІЧЕНКО К.І.</td>\n      <td>Cafe</td>\n      <td>4.6</td>\n      <td>16.0</td>\n      <td>$$</td>\n      <td>False</td>\n      <td>True</td>\n      <td>True</td>\n    </tr>\n    <tr>\n      <th>198</th>\n      <td>H</td>\n      <td>Ob'yektna Kava</td>\n      <td>Coffee shop</td>\n      <td>4.7</td>\n      <td>599.0</td>\n      <td>$$</td>\n      <td>False</td>\n      <td>True</td>\n      <td>True</td>\n    </tr>\n    <tr>\n      <th>199</th>\n      <td>H</td>\n      <td>О...МАРАТ КАФЕ ПП ПОЛІСТЕП</td>\n      <td>Cafe</td>\n      <td>4.3</td>\n      <td>341.0</td>\n      <td>$$</td>\n      <td>False</td>\n      <td>True</td>\n      <td>NaN</td>\n    </tr>\n  </tbody>\n</table>\n<p>200 rows × 9 columns</p>\n</div>"
     },
     "execution_count": 6,
     "metadata": {},
     "output_type": "execute_result"
    }
   ],
   "source": [
    "coffee_shops"
   ],
   "metadata": {
    "collapsed": false,
    "ExecuteTime": {
     "end_time": "2024-01-31T03:43:10.402174700Z",
     "start_time": "2024-01-31T03:43:10.281431200Z"
    }
   },
   "id": "ef42d4348ef72b16"
  },
  {
   "cell_type": "code",
   "execution_count": 5,
   "outputs": [
    {
     "name": "stdout",
     "output_type": "stream",
     "text": [
      "<class 'pandas.core.frame.DataFrame'>\n",
      "RangeIndex: 200 entries, 0 to 199\n",
      "Data columns (total 9 columns):\n",
      " #   Column           Non-Null Count  Dtype  \n",
      "---  ------           --------------  -----  \n",
      " 0   Region           200 non-null    object \n",
      " 1   Place name       200 non-null    object \n",
      " 2   Place type       200 non-null    object \n",
      " 3   Rating           198 non-null    float64\n",
      " 4   Reviews          198 non-null    float64\n",
      " 5   Price            200 non-null    object \n",
      " 6   Delivery option  200 non-null    bool   \n",
      " 7   Dine in option   140 non-null    object \n",
      " 8   Takeout option   144 non-null    object \n",
      "dtypes: bool(1), float64(2), object(6)\n",
      "memory usage: 12.8+ KB\n",
      "None\n"
     ]
    }
   ],
   "source": [
    "print(coffee_shops.info())"
   ],
   "metadata": {
    "collapsed": false,
    "ExecuteTime": {
     "end_time": "2024-01-31T03:43:04.338212Z",
     "start_time": "2024-01-31T03:43:04.317485600Z"
    }
   },
   "id": "21b824c48b04556c"
  },
  {
   "cell_type": "code",
   "execution_count": 7,
   "outputs": [],
   "source": [
    "# Check Region column, count missing values, fill missing values with 'Unknown' value\n",
    "np.sort(coffee_shops.Region.unique())\n",
    "coffee_shops.Region.isna().sum()\n",
    "coffee_shops['Region'] = coffee_shops['Region'].fillna('Unknown')\n",
    "\n",
    "# Check Place name column, count missing values, fill missing values with 'Unknown' value\n",
    "np.sort(coffee_shops['Place name'].unique())\n",
    "coffee_shops['Place name'].isna().sum()\n",
    "coffee_shops['Place name'] = coffee_shops['Place name'].fillna('Unknown')\n",
    "\n",
    "# Check Place type column, count missing values, fill missing values with 'Unknown' value\n",
    "np.sort(coffee_shops['Place type'].unique())\n",
    "coffee_shops['Place type'].isna().sum()\n",
    "coffee_shops['Place type'] = coffee_shops['Place type'].fillna('Unknown')\n",
    "\n",
    "# Check Rating column, count missing values, fill missing values with 0 value\n",
    "np.sort(coffee_shops['Rating'].unique())\n",
    "coffee_shops['Rating'].isna().sum()\n",
    "coffee_shops['Rating'] = coffee_shops['Rating'].fillna(0)\n",
    "\n",
    "# Check Reviews column, count missing values, fill missing values with median value, rounded to the nearest int.value\n",
    "np.sort(coffee_shops['Reviews'].unique())\n",
    "coffee_shops['Reviews'].isna().sum()\n",
    "coffee_shops['Reviews'] = coffee_shops['Reviews'].fillna(coffee_shops['Reviews'].median()).astype(\"int\")\n",
    "\n",
    "# Check Price column, count missing values, fill missing values with 0 value\n",
    "np.sort(coffee_shops['Price'].unique())\n",
    "coffee_shops['Price'].isna().sum()\n",
    "coffee_shops['Price'] = coffee_shops['Price'].fillna('Unknown')\n",
    "\n",
    "# Check Delivery option column, count missing values, fill missing values with False\n",
    "np.sort(coffee_shops['Delivery option'].unique())\n",
    "coffee_shops['Delivery option'].isna().sum()\n",
    "coffee_shops['Delivery option'] = coffee_shops['Delivery option'].fillna(False)\n",
    "\n",
    "# Check Dine in option column, count missing values, fill missing values with False\n",
    "np.sort(coffee_shops['Dine in option'].unique())\n",
    "coffee_shops['Dine in option'].isna().sum()\n",
    "coffee_shops['Dine in option'] = coffee_shops['Dine in option'].fillna(False)\n",
    "\n",
    "# Check Takeout option column, count missing values, fill missing values with False\n",
    "np.sort(coffee_shops['Takeout option'].unique())\n",
    "coffee_shops['Takeout option'].isna().sum()\n",
    "coffee_shops['Takeout option'] = coffee_shops['Takeout option'].fillna(False)\n",
    "\n",
    "cleaned_coffee_shops = coffee_shops.copy()"
   ],
   "metadata": {
    "collapsed": false,
    "ExecuteTime": {
     "end_time": "2024-01-31T03:43:23.661126400Z",
     "start_time": "2024-01-31T03:43:23.639727600Z"
    }
   },
   "id": "7649772082c3e9d1"
  },
  {
   "cell_type": "code",
   "execution_count": 11,
   "outputs": [
    {
     "data": {
      "text/plain": "         Rating  Median  Minimum  Maximum\n0          Cafe   299.0        9     2236\n1   Coffee shop   292.0        3    17937\n2  Espresso bar   204.0       11     1908\n3        Others   167.0       10     2381",
      "text/html": "<div>\n<style scoped>\n    .dataframe tbody tr th:only-of-type {\n        vertical-align: middle;\n    }\n\n    .dataframe tbody tr th {\n        vertical-align: top;\n    }\n\n    .dataframe thead th {\n        text-align: right;\n    }\n</style>\n<table border=\"1\" class=\"dataframe\">\n  <thead>\n    <tr style=\"text-align: right;\">\n      <th></th>\n      <th>Rating</th>\n      <th>Median</th>\n      <th>Minimum</th>\n      <th>Maximum</th>\n    </tr>\n  </thead>\n  <tbody>\n    <tr>\n      <th>0</th>\n      <td>Cafe</td>\n      <td>299.0</td>\n      <td>9</td>\n      <td>2236</td>\n    </tr>\n    <tr>\n      <th>1</th>\n      <td>Coffee shop</td>\n      <td>292.0</td>\n      <td>3</td>\n      <td>17937</td>\n    </tr>\n    <tr>\n      <th>2</th>\n      <td>Espresso bar</td>\n      <td>204.0</td>\n      <td>11</td>\n      <td>1908</td>\n    </tr>\n    <tr>\n      <th>3</th>\n      <td>Others</td>\n      <td>167.0</td>\n      <td>10</td>\n      <td>2381</td>\n    </tr>\n  </tbody>\n</table>\n</div>"
     },
     "execution_count": 11,
     "metadata": {},
     "output_type": "execute_result"
    }
   ],
   "source": [
    "print(len(np.sort(coffee_shops['Rating'].unique())))\n",
    "np.sort(coffee_shops['Rating'].unique())\n",
    "print(coffee_shops['Rating'].isna().sum())"
   ],
   "metadata": {
    "collapsed": false,
    "ExecuteTime": {
     "end_time": "2024-01-31T04:02:17.142531300Z",
     "start_time": "2024-01-31T04:02:17.063852300Z"
    }
   },
   "id": "84a58e2cb1fbcd12"
  },
  {
   "cell_type": "code",
   "execution_count": 23,
   "outputs": [
    {
     "data": {
      "text/plain": "     Place type    sum\n0          Cafe  30646\n1   Coffee shop  71076\n2  Espresso bar  10519\n3        Others  11555",
      "text/html": "<div>\n<style scoped>\n    .dataframe tbody tr th:only-of-type {\n        vertical-align: middle;\n    }\n\n    .dataframe tbody tr th {\n        vertical-align: top;\n    }\n\n    .dataframe thead th {\n        text-align: right;\n    }\n</style>\n<table border=\"1\" class=\"dataframe\">\n  <thead>\n    <tr style=\"text-align: right;\">\n      <th></th>\n      <th>Place type</th>\n      <th>sum</th>\n    </tr>\n  </thead>\n  <tbody>\n    <tr>\n      <th>0</th>\n      <td>Cafe</td>\n      <td>30646</td>\n    </tr>\n    <tr>\n      <th>1</th>\n      <td>Coffee shop</td>\n      <td>71076</td>\n    </tr>\n    <tr>\n      <th>2</th>\n      <td>Espresso bar</td>\n      <td>10519</td>\n    </tr>\n    <tr>\n      <th>3</th>\n      <td>Others</td>\n      <td>11555</td>\n    </tr>\n  </tbody>\n</table>\n</div>"
     },
     "execution_count": 23,
     "metadata": {},
     "output_type": "execute_result"
    }
   ],
   "source": [],
   "metadata": {
    "collapsed": false,
    "ExecuteTime": {
     "end_time": "2024-01-31T04:32:53.715858600Z",
     "start_time": "2024-01-31T04:32:53.691888300Z"
    }
   },
   "id": "b3de2ee1a44c242"
  },
  {
   "cell_type": "code",
   "execution_count": 26,
   "outputs": [
    {
     "data": {
      "text/plain": "<Figure size 640x480 with 1 Axes>",
      "image/png": "[encoded data removed]"
     },
     "metadata": {},
     "output_type": "display_data"
    }
   ],
   "source": [
    "clean_data.rename(columns={\n",
    "    clean_data.columns[-3]: \"Delivery Option\",\n",
    "    clean_data.columns[-2]: \"Dine in Option\",\n",
    "    clean_data.columns[-1]: \"Takeout Option\"\n",
    "}, inplace=True)\n",
    "\n",
    "(clean_data.\n",
    " dtypes)"
   ],
   "metadata": {
    "collapsed": false,
    "ExecuteTime": {
     "end_time": "2024-01-31T04:56:16.474996600Z",
     "start_time": "2024-01-31T04:56:15.972390Z"
    }
   },
   "id": "8e8add5abd517e5e"
  },
  {
   "cell_type": "code",
   "execution_count": null,
   "outputs": [],
   "source": [
    "df = pd.read_csv(\"coffee.csv\")\n",
    "\n",
    "reviews_by_rating = df.groupby(\"Rating\")[\"Reviews\"].agg([\"median\", \"min\", \"max\"]).reset_index(drop=False)\n",
    "reviews_by_rating.columns = [\"rating\", \"med_review\", \"min_review\", \"max_review\"]\n",
    "#reviews_by_rating = reviews_by_rating.set_index(\"rating\")\n",
    "reviews_by_rating = reviews_by_rating.round(1)\n",
    "reviews_by_rating"
   ],
   "metadata": {
    "collapsed": false
   },
   "id": "4b50c72c66c12c5d"
  }
 ],
 "metadata": {
  "kernelspec": {
   "display_name": "Python 3",
   "language": "python",
   "name": "python3"
  },
  "language_info": {
   "codemirror_mode": {
    "name": "ipython",
    "version": 2
   },
   "file_extension": ".py",
   "mimetype": "text/x-python",
   "name": "python",
   "nbconvert_exporter": "python",
   "pygments_lexer": "ipython2",
   "version": "2.7.6"
  }
 },
 "nbformat": 4,
 "nbformat_minor": 5
}
